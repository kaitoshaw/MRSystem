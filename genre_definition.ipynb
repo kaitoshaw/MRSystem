{
 "cells": [
  {
   "attachments": {},
   "cell_type": "markdown",
   "metadata": {},
   "source": [
    "# Multiclass classification to predict Genre of the song\n",
    "The way this classification works is that:\n",
    "\n",
    "1. Essentially, the songs are registered with their artists on spotify. Spotify does not provide a genre database for each song. So with this multiclassification, we will use the artist genre as the **Target Value** of the Song's prediction in the latter.\n",
    "2. Should the song have more than 1 artist which is registered with more than 1 genre, the song will be duped into several values, with different target values from each genre. This is to train the model to understand the scope of such genre better.\n",
    "\n",
    "## Procedure\n",
    "In this multiclass classification, we will use several algorithm: \n",
    "- Random Forest\n",
    "- Gradient Boosting\n",
    "- SVM"
   ]
  },
  {
   "cell_type": "code",
   "execution_count": 7,
   "metadata": {},
   "outputs": [
    {
     "name": "stdout",
     "output_type": "stream",
     "text": [
      "<class 'pandas.core.frame.DataFrame'>\n",
      "RangeIndex: 897 entries, 0 to 896\n",
      "Data columns (total 22 columns):\n",
      " #   Column            Non-Null Count  Dtype  \n",
      "---  ------            --------------  -----  \n",
      " 0   songID            897 non-null    object \n",
      " 1   songTitle         897 non-null    object \n",
      " 2   SongArtistTitle   897 non-null    object \n",
      " 3   popularity        897 non-null    int64  \n",
      " 4   danceability      897 non-null    float64\n",
      " 5   energy            897 non-null    float64\n",
      " 6   key               897 non-null    int64  \n",
      " 7   loudness          897 non-null    float64\n",
      " 8   mode              897 non-null    int64  \n",
      " 9   speechiness       897 non-null    float64\n",
      " 10  acousticness      897 non-null    float64\n",
      " 11  instrumentalness  897 non-null    float64\n",
      " 12  liveness          897 non-null    float64\n",
      " 13  valence           897 non-null    float64\n",
      " 14  tempo             897 non-null    float64\n",
      " 15  type              897 non-null    object \n",
      " 16  id                897 non-null    object \n",
      " 17  uri               897 non-null    object \n",
      " 18  track_href        897 non-null    object \n",
      " 19  analysis_url      897 non-null    object \n",
      " 20  duration_ms       897 non-null    int64  \n",
      " 21  time_signature    897 non-null    int64  \n",
      "dtypes: float64(9), int64(5), object(8)\n",
      "memory usage: 154.3+ KB\n"
     ]
    }
   ],
   "source": [
    "# Loading the Data\n",
    "import pandas as pd\n",
    "from configparser import ConfigParser\n",
    "\n",
    "parser = ConfigParser()\n",
    "_ = parser.read('notebook.cfg')\n",
    "\n",
    "main_df = pd.read_csv(parser.get('database', 'main_database'))\n",
    "main_df.info()"
   ]
  },
  {
   "cell_type": "code",
   "execution_count": 59,
   "metadata": {},
   "outputs": [
    {
     "data": {
      "text/plain": [
       "0          ['reggaeton', 'trap latino', 'urbano latino']\n",
       "1                                  ['pop', 'r&b', 'rap']\n",
       "2      ['afrobeats', 'nigerian pop', 'pop', 'post-tee...\n",
       "3                                                ['pop']\n",
       "4      ['pop', 'r&b', 'conscious hip hop', 'hip hop',...\n",
       "                             ...                        \n",
       "892                     ['anime', 'anime rock', 'j-pop']\n",
       "893                                                   []\n",
       "894    ['j-acoustic', 'j-pop', 'japanese singer-songw...\n",
       "895              ['j-rock', 'japanese alternative rock']\n",
       "896                        ['anime', 'j-pop girl group']\n",
       "Name: SongArtistTitle, Length: 897, dtype: object"
      ]
     },
     "execution_count": 59,
     "metadata": {},
     "output_type": "execute_result"
    }
   ],
   "source": [
    "# Features\n",
    "X_values = main_df.iloc[:, 4:]\n",
    "\n",
    "# Target Space\n",
    "y_value = main_df.iloc[:, 2]\n",
    "y_value"
   ]
  },
  {
   "attachments": {},
   "cell_type": "markdown",
   "metadata": {},
   "source": [
    "# Genre Divisions\n",
    "As we can see from the output of the previous block, one row may have either **NO Genre** (not ideal), **one genre** (ideal), or more than one genre. In this function, we will make a duplicate of each song that has more than one genre and seperate it into multiple values with a unique genre."
   ]
  },
  {
   "cell_type": "code",
   "execution_count": 58,
   "metadata": {},
   "outputs": [
    {
     "name": "stdout",
     "output_type": "stream",
     "text": [
      "3\n"
     ]
    }
   ],
   "source": [
    "singularValue = str(main_df.iloc[:1, 2].values.tolist())\n",
    "\n",
    "singularValue = singularValue.replace('[', '').replace(']', '').replace('\"', '').replace(\"'\", \"\")\n",
    "singularValue = singularValue.split(', ')\n",
    "\n",
    "\n",
    "\n"
   ]
  },
  {
   "cell_type": "code",
   "execution_count": null,
   "metadata": {},
   "outputs": [],
   "source": [
    "# Random Forest Classifier\n",
    "\n",
    "from sklearn.ensemble import RandomForestClassifier\n",
    "from sklearn.preprocessing import LabelEncoder\n",
    "from sklearn.metrics import accuracy_score\n",
    "\n",
    "# Assuming X_train, X_test are the feature matrices, and y_train, y_test are the corresponding class labels\n",
    "\n",
    "\n",
    "# Encode categorical variables if present\n",
    "label_encoder = LabelEncoder()\n",
    "y_train_encoded = label_encoder.fit_transform(y_train)\n",
    "\n",
    "# Create a Random Forest classifier\n",
    "rf_classifier = RandomForestClassifier(n_estimators=100)  # Specify the number of trees as needed\n",
    "\n",
    "# Train the model\n",
    "rf_classifier.fit(X_train, y_train_encoded)\n",
    "\n",
    "# Predict on the test set\n",
    "y_pred_encoded = rf_classifier.predict(X_test)\n",
    "\n",
    "# Decode the predicted labels\n",
    "y_pred = label_encoder.inverse_transform(y_pred_encoded)\n",
    "\n",
    "# Evaluate the model\n",
    "accuracy = accuracy_score(y_test, y_pred)\n",
    "print(\"Accuracy:\", accuracy)\n"
   ]
  }
 ],
 "metadata": {
  "kernelspec": {
   "display_name": "Python 3",
   "language": "python",
   "name": "python3"
  },
  "language_info": {
   "codemirror_mode": {
    "name": "ipython",
    "version": 3
   },
   "file_extension": ".py",
   "mimetype": "text/x-python",
   "name": "python",
   "nbconvert_exporter": "python",
   "pygments_lexer": "ipython3",
   "version": "3.9.12"
  },
  "orig_nbformat": 4
 },
 "nbformat": 4,
 "nbformat_minor": 2
}
